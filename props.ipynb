{
 "cells": [
  {
   "cell_type": "markdown",
   "metadata": {},
   "source": [
    "# Properties Section\n",
    "### Load your property file before"
   ]
  },
  {
   "cell_type": "code",
   "execution_count": 2,
   "metadata": {},
   "outputs": [],
   "source": [
    "PROJECT_NAME = 'example'\n",
    "\n",
    "INPUT_FILE = 'io/props/input.properties'\n",
    "EDIT_FILE = 'io/props/edit.properties'\n",
    "HISTORY_SAVE = 'history/edit.'+PROJECT_NAME+'.properties'\n",
    "OUTPUT_FILE = 'io/props/output.properties'"
   ]
  },
  {
   "cell_type": "markdown",
   "metadata": {},
   "source": [
    "### Generate a file to custom your environment variables' name"
   ]
  },
  {
   "cell_type": "code",
   "execution_count": 3,
   "metadata": {},
   "outputs": [],
   "source": [
    "'''\n",
    "    Generates the edit.properties based on the input.properties file you provide,\n",
    "    which must contain only simple properties as follows:\n",
    "\n",
    "        property.key=value\n",
    "        # comment and spaces are allowed\n",
    "'''\n",
    "with open(INPUT_FILE, 'r') as f:\n",
    "    lines = f.readlines()\n",
    "    with open(EDIT_FILE, 'w') as out:\n",
    "        for line in lines:\n",
    "            if line.startswith('#') or not line.strip():\n",
    "                out.write(line)\n",
    "                continue\n",
    "\n",
    "            parts = [part.strip() for part in line.strip().split('=')]\n",
    "            if len(parts) == 2:\n",
    "                key, value = parts\n",
    "                config = key.replace('.','_').replace('-','_').upper()\n",
    "                out.write(config+'='+line)\n",
    "            else:\n",
    "                out.write(line)\n",
    "    out.close()\n",
    "f.close()\n",
    "    "
   ]
  },
  {
   "cell_type": "markdown",
   "metadata": {},
   "source": [
    "### Get your new application.properties"
   ]
  },
  {
   "cell_type": "code",
   "execution_count": 4,
   "metadata": {},
   "outputs": [],
   "source": [
    "'''\n",
    "    Generates the output.properties based on the edit.properties file \n",
    "    AFTER you custom its content. Also saves a backup in the history dir.\n",
    "'''\n",
    "with open(EDIT_FILE, 'r') as f:\n",
    "    lines = f.readlines()\n",
    "    with open(OUTPUT_FILE, 'w') as prop:\n",
    "        for line in lines:\n",
    "            if line.startswith('#') or line=='':\n",
    "                prop.write(line)\n",
    "                continue\n",
    "\n",
    "            parts = [part.strip() for part in line.strip().split('=')]\n",
    "            if len(parts) == 4 and parts[0] == 'S':\n",
    "                _, config, key, value = parts\n",
    "                prop.write(key+'=${'+config + '}\\n')\n",
    "            if len(parts) == 3:\n",
    "                config, key, value = parts\n",
    "                prop.write(key+'=${'+config + '}\\n')\n",
    "            elif len(parts) == 2:\n",
    "                prop.write(line)\n",
    "    prop.close()\n",
    "\n",
    "    with open(HISTORY_SAVE, 'w') as his:\n",
    "        for line in lines:\n",
    "            his.write(line)\n",
    "    his.close()\n",
    "f.close()\n",
    "    "
   ]
  }
 ],
 "metadata": {
  "kernelspec": {
   "display_name": "Python 3",
   "language": "python",
   "name": "python3"
  },
  "language_info": {
   "codemirror_mode": {
    "name": "ipython",
    "version": 3
   },
   "file_extension": ".py",
   "mimetype": "text/x-python",
   "name": "python",
   "nbconvert_exporter": "python",
   "pygments_lexer": "ipython3",
   "version": "3.12.2"
  }
 },
 "nbformat": 4,
 "nbformat_minor": 2
}
