{
 "cells": [
  {
   "cell_type": "markdown",
   "metadata": {},
   "source": [
    "# K8S Section\n",
    "### config"
   ]
  },
  {
   "cell_type": "code",
   "execution_count": 58,
   "metadata": {},
   "outputs": [],
   "source": [
    "import base64\n",
    "import yaml\n",
    "import re\n",
    "\n",
    "INPUT_FILE = 'io/props/edit.properties'\n",
    "OUTPUT_PATH = 'io/k8s/'\n",
    "TEMPLATE_PATH = 'io/templates/'\n",
    "\n",
    "CONFIGMAP = 'configmap.yaml'\n",
    "DEPLOYMENT = 'deployment.yaml'\n",
    "SECRET = 'secret.yaml'\n",
    "SERVICE = 'service.yaml'"
   ]
  },
  {
   "cell_type": "markdown",
   "metadata": {},
   "source": [
    "### templates"
   ]
  },
  {
   "cell_type": "code",
   "execution_count": 59,
   "metadata": {},
   "outputs": [],
   "source": [
    "def find_placeholders(template:str) -> set :\n",
    "    pattern = re.compile(r'\\{(.*?)\\}')\n",
    "    placeholders = pattern.findall(template)\n",
    "    return set(placeholders)\n",
    "\n",
    "def replace_placeholders(template:str, values:dict) -> str:\n",
    "    pattern = re.compile(r'\\{(.*?)\\}')\n",
    "    result = template\n",
    "    for match in pattern.findall(template):\n",
    "        key = match.strip()\n",
    "        if key in values:\n",
    "            result = result.replace(f'{{{key}}}', values[key])\n",
    "    return result"
   ]
  },
  {
   "cell_type": "code",
   "execution_count": 60,
   "metadata": {},
   "outputs": [
    {
     "name": "stdout",
     "output_type": "stream",
     "text": [
      "Fill the following dict in the next cell\n"
     ]
    },
    {
     "data": {
      "text/plain": [
       "{'SERVICE_NAME': '',\n",
       " 'NAMESPACE': '',\n",
       " 'IMAGE': '',\n",
       " 'DEPLOYMENT_NAME': '',\n",
       " 'SECRET_NAME': '',\n",
       " 'TARGET_PORT': '',\n",
       " 'CONFIGMAP_NAME': '',\n",
       " 'PORT': ''}"
      ]
     },
     "execution_count": 60,
     "metadata": {},
     "output_type": "execute_result"
    }
   ],
   "source": [
    "#load templates and find variables\n",
    "with open(TEMPLATE_PATH+CONFIGMAP, 'r') as file:\n",
    "    configmap_template = file.read()\n",
    "with open(TEMPLATE_PATH+DEPLOYMENT, 'r') as file:\n",
    "    deployment_template = file.read()\n",
    "with open(TEMPLATE_PATH+SECRET, 'r') as file:\n",
    "    secret_template = file.read()\n",
    "with open(TEMPLATE_PATH+SERVICE, 'r') as file:\n",
    "    service_template = file.read()\n",
    "\n",
    "placeholders = find_placeholders(deployment_template + configmap_template + secret_template + service_template)\n",
    "placeholders_values = dict.fromkeys(placeholders, '')\n",
    "print('Fill the following dict in the next cell')\n",
    "placeholders_values"
   ]
  },
  {
   "cell_type": "code",
   "execution_count": 61,
   "metadata": {},
   "outputs": [],
   "source": [
    "# copy the last output here and give them a value\n",
    "placeholders_values = {\n",
    "    'DEPLOYMENT_NAME' : 'example_app',\n",
    "    'SERVICE_NAME' : 'example_app_service',\n",
    "    'NAMESPACE' : 'test',\n",
    "    'IMAGE' : 'example:lastest',\n",
    "    'SECRET_NAME' : 'example_app_secret',\n",
    "    'TARGET_PORT' : '8088',\n",
    "    'CONFIGMAP_NAME' : 'example_app_env',\n",
    "    'PORT' : '8088'\n",
    "}\n",
    "\n",
    "configmap_inner = replace_placeholders(configmap_template, placeholders_values)\n",
    "secret_inner = replace_placeholders(secret_template, placeholders_values)\n",
    "service_inner = replace_placeholders(service_template, placeholders_values)\n",
    "deployment_inner = replace_placeholders(deployment_template, placeholders_values)"
   ]
  },
  {
   "cell_type": "markdown",
   "metadata": {},
   "source": [
    "### write"
   ]
  },
  {
   "cell_type": "code",
   "execution_count": 62,
   "metadata": {},
   "outputs": [],
   "source": [
    "configmap_out = yaml.safe_load(configmap_inner)\n",
    "secrets_out = yaml.safe_load(secret_inner)\n",
    "service_out = yaml.safe_load(service_inner)\n",
    "deployment_out = yaml.safe_load(deployment_inner)\n",
    "\n",
    "with open(INPUT_FILE, 'r') as f:\n",
    "    lines = f.readlines()\n",
    "    secrets = dict()\n",
    "    configs = dict()\n",
    "    for line in lines:\n",
    "        if line.startswith('#') or line=='':\n",
    "            continue\n",
    "\n",
    "        parts = line.strip().split('=')\n",
    "        if len(parts) == 4 and parts[0] == 'S':\n",
    "            _, config, _, value = parts\n",
    "            secrets[config] = base64.b64encode(value.encode('ascii') ).decode('ascii')\n",
    "\n",
    "        elif len(parts) == 3:\n",
    "            config, _, value = parts\n",
    "            configs[config] = value\n",
    "                \n",
    "    secrets_out['data'] = secrets\n",
    "    configmap_out['data'] = configs\n",
    "\n",
    "f.close()\n",
    "\n",
    "with open(OUTPUT_PATH+CONFIGMAP, 'w+') as outfile:\n",
    "    yaml.dump(configmap_out, outfile, default_flow_style=False, sort_keys=False)\n",
    "with open(OUTPUT_PATH+SECRET, 'w+') as outfile:\n",
    "    yaml.dump(secrets_out, outfile, default_flow_style=False, sort_keys=False)\n",
    "with open(OUTPUT_PATH+DEPLOYMENT, 'w+') as outfile:\n",
    "    yaml.dump(deployment_out, outfile, default_flow_style=False, sort_keys=False)\n",
    "with open(OUTPUT_PATH+SERVICE, 'w+') as outfile:\n",
    "    yaml.dump(service_out, outfile, default_flow_style=False, sort_keys=False)"
   ]
  }
 ],
 "metadata": {
  "kernelspec": {
   "display_name": "Python 3",
   "language": "python",
   "name": "python3"
  },
  "language_info": {
   "codemirror_mode": {
    "name": "ipython",
    "version": 3
   },
   "file_extension": ".py",
   "mimetype": "text/x-python",
   "name": "python",
   "nbconvert_exporter": "python",
   "pygments_lexer": "ipython3",
   "version": "3.12.2"
  }
 },
 "nbformat": 4,
 "nbformat_minor": 2
}
