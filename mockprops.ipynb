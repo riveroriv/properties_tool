{
 "cells": [
  {
   "cell_type": "code",
   "execution_count": 1,
   "metadata": {},
   "outputs": [],
   "source": [
    "INPUT_FILE = 'io/props/input.properties'\n",
    "MOCK_FILE = 'io/props/mock.properties'"
   ]
  },
  {
   "cell_type": "code",
   "execution_count": 2,
   "metadata": {},
   "outputs": [],
   "source": [
    "'''\n",
    "    This is for a personal use, just ignore it.\n",
    "'''\n",
    "with open(INPUT_FILE, 'r') as f:\n",
    "    lines = f.readlines()\n",
    "    with open(MOCK_FILE, 'w') as out:\n",
    "        for line in lines:\n",
    "            if line.startswith('#') or line=='':\n",
    "                out.write(line)\n",
    "                continue\n",
    "\n",
    "            parts = line.strip().split('=')\n",
    "            if len(parts) == 2:\n",
    "                key, value = parts\n",
    "                out.write('props.when(() -> Props.get(\"'+key+'\")).thenReturn(\"'+value+'\");\\n')\n",
    "            else:\n",
    "                out.write(line)\n",
    "    out.close()\n",
    "f.close()\n",
    "    "
   ]
  }
 ],
 "metadata": {
  "kernelspec": {
   "display_name": "Python 3",
   "language": "python",
   "name": "python3"
  },
  "language_info": {
   "codemirror_mode": {
    "name": "ipython",
    "version": 3
   },
   "file_extension": ".py",
   "mimetype": "text/x-python",
   "name": "python",
   "nbconvert_exporter": "python",
   "pygments_lexer": "ipython3",
   "version": "3.12.2"
  }
 },
 "nbformat": 4,
 "nbformat_minor": 2
}
